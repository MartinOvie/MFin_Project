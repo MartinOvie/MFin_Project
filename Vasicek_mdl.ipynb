{
 "cells": [
  {
   "cell_type": "code",
   "execution_count": 10,
   "metadata": {},
   "outputs": [],
   "source": [
    "import numpy as np\n",
    "import pandas as pd\n",
    "import math\n",
    "import matplotlib.pyplot as plt\n",
    "import matplotlib.ticker as ticker\n",
    "import seaborn as sns\n",
    "import locale\n",
    "locale.setlocale(locale.LC_ALL, '' )\n",
    "\n",
    "from scipy.stats import norm\n",
    "from numpy import sqrt, array, exp\n"
   ]
  },
  {
   "cell_type": "markdown",
   "metadata": {},
   "source": [
    "## Vasicek single-factor model\n",
    "\n",
    "$$ X_i = \\sqrt \\rho Y + \\sqrt{1-\\rho}Z_i $$ \n",
    "\n",
    "X = shock to the return ~ N(0,1) <br>\n",
    "Y, Z = market and firm-specific risk factors ~ N(0,1)  <br>\n",
    "$\\sqrt \\rho$ = correlation btw firm and market factor  <br>"
   ]
  },
  {
   "cell_type": "code",
   "execution_count": 5,
   "metadata": {},
   "outputs": [],
   "source": [
    "def generate_norms(N = 1, M = 1):\n",
    "    \"\"\"Generate standard normals: Y, Z.\"\"\"\n",
    "    Y, Z = np.random.randn(N).reshape(N,1), np.random.randn(N, M)\n",
    "    return (Y, Z)\n",
    "\n",
    "def vasicek_sf(rho, N=1, M=1): \n",
    "    \"\"\"Compute exposure, X, using Vasicek single factor model.\"\"\"\n",
    "    Y, Z = generate_norms(N, M) # market, firm-specific risk factor\n",
    "    X = np.sqrt(rho)*Y + np.sqrt(1-rho)*Z # company's exposure\n",
    "    return (X, Y, Z)\n",
    "\n",
    "def sim_portfolio_loss(EAD, LGD, PD, rho, N=1, M=1, mdl=vasicek_sf):\n",
    "    \"\"\"Simulate portfolio loss.\"\"\"\n",
    "    X, Y, Z = mdl(rho, N, M)\n",
    "    threshold = np.array(norm.ppf(PD)).reshape(N,1) # threshold for loan/exposure\n",
    "    sim_loss = sim_loss = np.sum(np.mean(LGD*EAD*(X < threshold).astype(int), axis=1))\n",
    "    return (sim_loss)\n",
    "\n",
    "def loss_pdf(x, p, rho):\n",
    "    \"\"\"\"Loss pdf (pg4 Vasicek paper).\"\"\"\n",
    "    invx, invp = norm.ppf(x), norm.ppf(p) \n",
    "    f = sqrt(1/rho-1) * exp(-1/(2*rho)*(sqrt(1-rho)*invx-invp)**2 + 0.5*invx**2)\n",
    "    return (f)\n",
    "\n",
    "def loss_cdf(x, p, rho):\n",
    "    \"\"\"\"Loss cdf (Eq. 5, pg4 Vasicek paper).\"\"\"\n",
    "    F = norm.cdf((sqrt(1-rho)*norm.ppf(x)-norm.ppf(p))/sqrt(rho))\n",
    "    return (F)\n",
    "\n",
    "def numc(x):\n",
    "    # random fn for printing currency\n",
    "    return (locale.currency(x, grouping=True))\n",
    "\n",
    "# Test pdf: I = 1\n",
    "# import scipy.integrate as integrate\n",
    "# integrate.quad(portfolio_loss_pdf, 0, 1, args=(0.1, 0.2)) "
   ]
  },
  {
   "cell_type": "markdown",
   "metadata": {},
   "source": [
    "### Example from Vasicek paper\n",
    "Portfolio loss distribution: p=0.02, rho=0.1"
   ]
  },
  {
   "cell_type": "code",
   "execution_count": 6,
   "metadata": {},
   "outputs": [
    {
     "data": {
      "image/png": "[encoded data removed]",
      "text/plain": [
       "<Figure size 432x288 with 1 Axes>"
      ]
     },
     "metadata": {
      "needs_background": "light"
     },
     "output_type": "display_data"
    }
   ],
   "source": [
    "x = np.arange(0.0001, 1, 0.0001)\n",
    "f = loss_pdf(x,0.02,0.1) # using p, rho from Vasicek paper\n",
    "g = sns.lineplot(x, f).set(xlim=(0,0.12), \n",
    "                           title='Portfolio loss distribution', \n",
    "                           xlabel='Portfolio loss')\n"
   ]
  },
  {
   "cell_type": "markdown",
   "metadata": {},
   "source": [
    "### Example from S. Schaefer (pg 16)\n",
    "Portfolio loss distribution: p=1.5% (fixed) and rho=12%, 0.6%."
   ]
  },
  {
   "cell_type": "code",
   "execution_count": 7,
   "metadata": {},
   "outputs": [
    {
     "data": {
      "image/png": "[encoded data removed]",
      "text/plain": [
       "<Figure size 432x288 with 1 Axes>"
      ]
     },
     "metadata": {
      "needs_background": "light"
     },
     "output_type": "display_data"
    }
   ],
   "source": [
    "g = sns.lineplot(x, loss_pdf(x,0.015,0.006), color=\"red\")\n",
    "g = sns.lineplot(x, loss_pdf(x,0.015,0.12), color=\"blue\").set(\n",
    "    xlim=(0,0.06), title=\"Loan Loss distribution\", xlabel='Portfolio loan loss')\n"
   ]
  },
  {
   "cell_type": "markdown",
   "metadata": {},
   "source": [
    "### Example: expected and simulated portfolio loan loss"
   ]
  },
  {
   "cell_type": "code",
   "execution_count": 11,
   "metadata": {},
   "outputs": [
    {
     "name": "stdout",
     "output_type": "stream",
     "text": [
      "Expected loss  $11,276,250.00\n",
      "Simulated loss $10,918,700.00\n",
      "Abs. Difference   $357,550.00\n"
     ]
    }
   ],
   "source": [
    "N, M = 1000, 20000\n",
    "PD = np.repeat([0.00001, 0.01, 0.08, 0.0002], int(N/4))\n",
    "LGD, EAD = np.repeat(0.5, N).reshape(N,1), np.repeat(1e6, N).reshape(N,1)\n",
    "rho = 0.09\n",
    "expd_loss = sum(PD.reshape(N) * LGD.reshape(N) * EAD.reshape(N))\n",
    "print(\"Expected loss \", numc(expd_loss))\n",
    "sim_loss = sim_portfolio_loss(EAD, LGD, PD, rho, N, M)\n",
    "print(\"Simulated loss\", numc(sim_loss))\n",
    "print(\"Abs. Difference  \", numc(np.abs(expd_loss-sim_loss)))"
   ]
  },
  {
   "cell_type": "code",
   "execution_count": null,
   "metadata": {},
   "outputs": [],
   "source": []
  },
  {
   "cell_type": "markdown",
   "metadata": {},
   "source": [
    "### Markit CDS data (from WRDS)\n"
   ]
  },
  {
   "cell_type": "code",
   "execution_count": 13,
   "metadata": {},
   "outputs": [
    {
     "name": "stdout",
     "output_type": "stream",
     "text": [
      "      date ticker rating6m  spread6m  recovery  lgd      pd6m\n",
      "0   1/1/13    IBM        A  0.000867       0.4  0.6  0.001445\n",
      "2   1/1/13    IBM        A  0.000867       0.4  0.6  0.001445\n",
      "3   1/1/13    IBM        A  0.000867       0.4  0.6  0.001445\n",
      "4   1/1/13    IBM        A  0.000867       0.4  0.6  0.001445\n",
      "5   1/1/13    IBM        A  0.000846       0.4  0.6  0.001409\n",
      "6   1/1/13    IBM        A  0.000867       0.4  0.6  0.001445\n",
      "8   1/1/13    IBM        A  0.000867       0.4  0.6  0.001445\n",
      "9   1/1/13    IBM        A  0.000846       0.4  0.6  0.001409\n",
      "10  1/1/13    IBM        A  0.000867       0.4  0.6  0.001445\n",
      "11  1/1/13    IBM        A  0.000867       0.4  0.6  0.001445\n",
      "Expected loss  $866.83\n",
      "Simulated loss $600.00\n",
      "Abs. Difference $266.83\n"
     ]
    }
   ],
   "source": [
    "cds = pd.read_csv(\"cds_markit.csv\", \n",
    "                  usecols=[\"date\", \"ticker\", \"rating6m\", \"spread6m\", \"recovery\"])\n",
    "cds = cds.dropna()\n",
    "cds['lgd'] = 1 - cds['recovery']\n",
    "cds['pd6m'] = cds['spread6m'] / cds['lgd'] # implied PD, given spread and recovery rate\n",
    "print(cds.head(10))\n",
    "\n",
    "# single loan\n",
    "EAD = 1000000; N = 1\n",
    "LGD, pd6m = cds.iloc[0,5:]\n",
    "rho = 0.05\n",
    "exp_loss = pd6m * LGD * EAD\n",
    "print(\"Expected loss \", numc(exp_loss))\n",
    "sim_loss = sim_portfolio_loss(EAD, LGD, np.repeat(pd6m,N).reshape(N,1), rho, N, M)\n",
    "print(\"Simulated loss\", numc(sim_loss))\n",
    "print(\"Abs. Difference\", numc(np.abs(exp_loss-sim_loss)))"
   ]
  },
  {
   "cell_type": "code",
   "execution_count": 15,
   "metadata": {},
   "outputs": [
    {
     "name": "stdout",
     "output_type": "stream",
     "text": [
      "Expected loss  $11,276,250.00\n",
      "Simulated loss $11,608,475.00\n",
      "Abs. Difference   $332,225.00\n"
     ]
    }
   ],
   "source": [
    "N, M = 1000, 20000\n",
    "PD = np.repeat([0.00001, 0.01, 0.08, 0.0002], int(N/4))\n",
    "LGD, EAD = np.repeat(0.5, N).reshape(N,1), np.repeat(1e6, N).reshape(N,1)\n",
    "rho = 0.09\n",
    "expd_loss = sum(PD.reshape(N) * LGD.reshape(N) * EAD.reshape(N))\n",
    "print(\"Expected loss \", numc(expd_loss))\n",
    "sim_loss = sim_portfolio_loss(EAD, LGD, PD, rho, N, M)\n",
    "print(\"Simulated loss\", numc(sim_loss))\n",
    "print(\"Abs. Difference  \", numc(np.abs(expd_loss-sim_loss)))\n",
    "\n"
   ]
  },
  {
   "cell_type": "code",
   "execution_count": null,
   "metadata": {},
   "outputs": [],
   "source": []
  }
 ],
 "metadata": {
  "kernelspec": {
   "display_name": "Python 3",
   "language": "python",
   "name": "python3"
  },
  "language_info": {
   "codemirror_mode": {
    "name": "ipython",
    "version": 3
   },
   "file_extension": ".py",
   "mimetype": "text/x-python",
   "name": "python",
   "nbconvert_exporter": "python",
   "pygments_lexer": "ipython3",
   "version": "3.7.4"
  }
 },
 "nbformat": 4,
 "nbformat_minor": 2
}
